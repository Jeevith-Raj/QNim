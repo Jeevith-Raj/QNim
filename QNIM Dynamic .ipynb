{
 "cells": [
  {
   "cell_type": "code",
   "execution_count": 2,
   "id": "3cee9c01",
   "metadata": {},
   "outputs": [
    {
     "data": {
      "text/plain": [
       "[<AccountProvider for IBMQ(hub='ibm-q', group='open', project='main')>,\n",
       " <AccountProvider for IBMQ(hub='ibm-q-community', group='qamp', project='fall-22-29')>,\n",
       " <AccountProvider for IBMQ(hub='ibm-q-community', group='qhack-hackathon', project='7-qubit')>,\n",
       " <AccountProvider for IBMQ(hub='q-summer-school', group='main', project='project-2')>]"
      ]
     },
     "execution_count": 2,
     "metadata": {},
     "output_type": "execute_result"
    }
   ],
   "source": [
    "import numpy as np\n",
    "from qiskit import BasicAer, QuantumCircuit, QuantumRegister, ClassicalRegister, execute\n",
    "from qiskit import IBMQ\n",
    "provider = IBMQ.load_account()\n",
    "from collections import OrderedDict\n",
    "from operator import itemgetter\n",
    "IBMQ.providers()\n"
   ]
  },
  {
   "cell_type": "code",
   "execution_count": 3,
   "id": "4124a507",
   "metadata": {},
   "outputs": [],
   "source": [
    "# provider = IBMQ.load_account()\n",
    "# provider.backends()"
   ]
  },
  {
   "cell_type": "code",
   "execution_count": 4,
   "id": "0595620f",
   "metadata": {},
   "outputs": [
    {
     "data": {
      "text/plain": [
       "[<IBMQSimulator('ibmq_qasm_simulator') from IBMQ(hub='ibm-q-community', group='qamp', project='fall-22-29')>,\n",
       " <IBMQBackend('ibmq_lima') from IBMQ(hub='ibm-q-community', group='qamp', project='fall-22-29')>,\n",
       " <IBMQBackend('ibmq_belem') from IBMQ(hub='ibm-q-community', group='qamp', project='fall-22-29')>,\n",
       " <IBMQBackend('ibmq_quito') from IBMQ(hub='ibm-q-community', group='qamp', project='fall-22-29')>,\n",
       " <IBMQBackend('ibmq_guadalupe') from IBMQ(hub='ibm-q-community', group='qamp', project='fall-22-29')>,\n",
       " <IBMQBackend('ibmq_jakarta') from IBMQ(hub='ibm-q-community', group='qamp', project='fall-22-29')>,\n",
       " <IBMQBackend('ibmq_manila') from IBMQ(hub='ibm-q-community', group='qamp', project='fall-22-29')>,\n",
       " <IBMQBackend('ibm_lagos') from IBMQ(hub='ibm-q-community', group='qamp', project='fall-22-29')>,\n",
       " <IBMQBackend('ibm_nairobi') from IBMQ(hub='ibm-q-community', group='qamp', project='fall-22-29')>,\n",
       " <IBMQBackend('ibm_perth') from IBMQ(hub='ibm-q-community', group='qamp', project='fall-22-29')>,\n",
       " <IBMQBackend('ibm_oslo') from IBMQ(hub='ibm-q-community', group='qamp', project='fall-22-29')>]"
      ]
     },
     "execution_count": 4,
     "metadata": {},
     "output_type": "execute_result"
    }
   ],
   "source": [
    "provider = IBMQ.get_provider(hub='ibm-q-community', group='qamp', project='fall-22-29')\n",
    "provider.backends()"
   ]
  },
  {
   "cell_type": "code",
   "execution_count": 5,
   "id": "aa53daae",
   "metadata": {},
   "outputs": [],
   "source": [
    "def misere_step(ones,piles):\n",
    "    # even number of piles of 1 eg (1,1,3,0) or (0,0,3,0)\n",
    "    if ones%2 == 0:\n",
    "        objects_to_remove = []\n",
    "        removable_amount = 1\n",
    "        for i in range(len(piles)):\n",
    "            if piles[i] > 1:\n",
    "                objects_to_remove.append(piles[i]-1)\n",
    "            else:\n",
    "                objects_to_remove.append(0)\n",
    "    # odd number of piles of 1 eg (1,1,3,1)\n",
    "    else:\n",
    "        objects_to_remove = []\n",
    "        removable_amount = 1\n",
    "        for i in range(len(piles)):\n",
    "            if piles[i] > 1:\n",
    "                objects_to_remove.append(piles[i])\n",
    "            else:\n",
    "                objects_to_remove.append(0)\n",
    "    return objects_to_remove, removable_amount\n",
    "\n",
    "def get_piles_to_remove(piles):\n",
    "    nim_sum = 0\n",
    "    for p in piles:\n",
    "        nim_sum = nim_sum ^ p\n",
    "    objects_to_remove = []\n",
    "    removable_amount = 0\n",
    "    for p in piles:\n",
    "        new_p = p^nim_sum\n",
    "        if new_p < p:\n",
    "            objects_to_remove.append(p-new_p)\n",
    "            removable_amount = removable_amount + 1\n",
    "        else:\n",
    "            objects_to_remove.append(0)\n",
    "    return objects_to_remove, removable_amount\n"
   ]
  },
  {
   "cell_type": "code",
   "execution_count": null,
   "id": "3971f6ff",
   "metadata": {},
   "outputs": [],
   "source": []
  },
  {
   "cell_type": "code",
   "execution_count": 6,
   "id": "5efff069",
   "metadata": {},
   "outputs": [],
   "source": [
    "def custom_qft(data_qubits):\n",
    "    qr_data = QuantumRegister(data_qubits)\n",
    "    qc = QuantumCircuit(qr_data)\n",
    "    i = data_qubits\n",
    "    while i>=1:\n",
    "        n = i - 1\n",
    "        qc.h(qr_data[n]) \n",
    "        for qubit in range(n):\n",
    "            qc.cp(np.pi/2**(n-qubit), qr_data[qubit], qr_data[n])\n",
    "        i = i-1\n",
    "    return qc\n",
    "\n",
    "def subroutine_add_const(data_qubits: int, const: int, to_gate=True):\n",
    "    qc = QuantumCircuit(data_qubits)\n",
    "    for i in range(data_qubits):\n",
    "        angle = const*np.pi/(2**i)\n",
    "        qc.p(angle,i)\n",
    "    return qc.to_gate(label=\" [\"+str(const)+\"] \") if to_gate else qc"
   ]
  },
  {
   "cell_type": "code",
   "execution_count": 7,
   "id": "2a66e023",
   "metadata": {},
   "outputs": [],
   "source": [
    "def diffusion_operation(qc, address, flag, removable_pile):\n",
    "    def nim_oracle(qc,address,flag,removable_pile):\n",
    "\n",
    "        # 0001 -> 001\n",
    "        if removable_pile[0] != 0:\n",
    "            print(\"Removable Pile 0\")\n",
    "            qc.x(address[1])\n",
    "            qc.x(address[2])\n",
    "            qc.mct(address[:],flag)\n",
    "            qc.x(address[2])\n",
    "            qc.x(address[1])\n",
    "        \n",
    "        # 0010 -> 010\n",
    "        if removable_pile[1] != 0:\n",
    "            print(\"Removable Pile 1\")\n",
    "            qc.x(address[0])\n",
    "            qc.x(address[2])\n",
    "            qc.mct(address[:],flag)\n",
    "            qc.x(address[2])\n",
    "            qc.x(address[0])\n",
    "    \n",
    "        # 0100 -> 011\n",
    "        if removable_pile[2] != 0:\n",
    "            print(\"Removable Pile 2\")\n",
    "            qc.x(address[2])\n",
    "            qc.mct(address[:],flag)\n",
    "            qc.x(address[2])\n",
    "        \n",
    "        # 1000 -> 100\n",
    "        if removable_pile[3] != 0:\n",
    "            print(\"Removable Pile 3\")\n",
    "            qc.x(address[0])\n",
    "            qc.x(address[1])\n",
    "            qc.mct(address[:],flag)\n",
    "            qc.x(address[1])\n",
    "            qc.x(address[0])\n",
    "\n",
    "\n",
    "    qc.x(flag)\n",
    "    qc.h(flag)\n",
    "\n",
    "    qc.h(address[:])\n",
    "    nim_oracle(qc,address,flag,removable_pile)\n",
    "    qc.h(address[:])\n",
    "    qc.x(address[:])\n",
    "    qc.h(address[2])\n",
    "    qc.mct(address[0:2], address[2])\n",
    "    qc.h(address[2])\n",
    "    qc.x(address[:])\n",
    "    qc.h(address[:])\n",
    "    "
   ]
  },
  {
   "cell_type": "code",
   "execution_count": 21,
   "id": "c4f8d8d3",
   "metadata": {},
   "outputs": [],
   "source": [
    "def qc_process(qc,objects_to_remove,address,removable_pile,removable_count):\n",
    "    \n",
    "    if removable_count == 0:\n",
    "        for i in range(len(removable_pile)):\n",
    "            if piles[i] != 0 and piles[i] != min(piles):\n",
    "                removable_pile[i] += 1\n",
    "                \n",
    "    if removable_count == 4:\n",
    "        final_board = []\n",
    "        for i in range(len(removable_pile)):\n",
    "            final_board.append(piles[i]-removable_pile[i])\n",
    "        removable_pile[final_board.index(min(final_board))] = 0\n",
    "        removable_count = removable_count - 1\n",
    "    \n",
    "    qft_gate = custom_qft(3).to_gate()\n",
    "    inverse_qft_gate = custom_qft(3).inverse().to_gate()\n",
    "\n",
    "    if removable_count == 1:\n",
    "        qc.swap(objects_to_remove[0],objects_to_remove[2])\n",
    "        qc.append(qft_gate,objects_to_remove[:])\n",
    "        # 0001 -> 001\n",
    "        if removable_pile[0] != 0:\n",
    "            add_gate = subroutine_add_const(3,removable_pile[0])\n",
    "            qc.x(address[0])\n",
    "        # 0010 -> 010\n",
    "        elif removable_pile[1] != 0:\n",
    "            add_gate = subroutine_add_const(3,removable_pile[1])\n",
    "            qc.x(address[1])\n",
    "        # 0100 -> 011\n",
    "        elif removable_pile[2] != 0:\n",
    "            add_gate = subroutine_add_const(3,removable_pile[2])\n",
    "            qc.x(address[0])\n",
    "            qc.x(address[1])\n",
    "        # 1000 -> 100\n",
    "        elif removable_pile[3] != 0:\n",
    "            add_gate = subroutine_add_const(3,removable_pile[3])\n",
    "            qc.x(address[2])\n",
    "\n",
    "        qc.append(add_gate,objects_to_remove[:])\n",
    "        qc.append(inverse_qft_gate,objects_to_remove[:])\n",
    "        qc.swap(objects_to_remove[0],objects_to_remove[2])\n",
    "\n",
    "    else:\n",
    "        diffusion_operation(qc,address, flag, removable_pile)\n",
    "        qc.swap(objects_to_remove[0],objects_to_remove[2])\n",
    "        qc.append(qft_gate,objects_to_remove[:])\n",
    "        for i,remove_amount in enumerate(removable_pile):\n",
    "            if remove_amount != 0:\n",
    "\n",
    "                bin_i = list(bin(i+1)[2:])\n",
    "                while len(bin_i) != 3:\n",
    "                    bin_i.insert(0,'0')\n",
    "                bin_i = bin_i[::-1]\n",
    "                for j in range(len(bin_i)):\n",
    "                    if bin_i[j] == '0':\n",
    "                        qc.x(address[j])\n",
    "\n",
    "                controlled_add_gate = subroutine_add_const(3,remove_amount).control(3)    \n",
    "                qc.append(controlled_add_gate,address[:]+objects_to_remove[:])\n",
    "\n",
    "                for j in range(len(bin_i)):\n",
    "                    if bin_i[j] == '0':\n",
    "                        qc.x(address[j])\n",
    "\n",
    "        qc.append(inverse_qft_gate,objects_to_remove[:])\n",
    "        qc.swap(objects_to_remove[0],objects_to_remove[2])"
   ]
  },
  {
   "cell_type": "code",
   "execution_count": 40,
   "id": "b29e2d9c",
   "metadata": {},
   "outputs": [
    {
     "name": "stdout",
     "output_type": "stream",
     "text": [
      "[0, 2, 2, 2] 3\n",
      "Removable Pile 1\n",
      "Removable Pile 2\n",
      "Removable Pile 3\n"
     ]
    }
   ],
   "source": [
    "## check misere_step\n",
    "\n",
    "# piles = [1,3,4,5]\n",
    "piles = [1,2,6,7]\n",
    "# piles = [6,6,7,6]\n",
    "# piles = [1,3,4,7]\n",
    "# piles = [0,0,7,7]\n",
    "# piles = [1,3,2,0]\n",
    "# piles = [1,2,4,7]\n",
    "# piles = [1,0,0,4]\n",
    "\n",
    "ones = piles.count(1)\n",
    "zeros = piles.count(0)\n",
    "non_zeros = 4 - (ones+zeros)\n",
    "\n",
    "# all zeros except one eg (0,0,0,7) OR some zeros some ones some non_zeros\n",
    "# leave odd piles of 1s\n",
    "if non_zeros == 1: \n",
    "    removable_pile, removable_count = misere_step(ones, piles) \n",
    "else:\n",
    "    removable_pile, removable_count = get_piles_to_remove(piles)\n",
    "print(removable_pile, removable_count)\n",
    "\n",
    "objects_to_remove = QuantumRegister(3,'piles')\n",
    "flag = QuantumRegister(1,'flag')\n",
    "output_piles = ClassicalRegister(3,'final_piles')\n",
    "address = QuantumRegister(3,'address')\n",
    "pick_pile = ClassicalRegister(3,'choose_pile')\n",
    "qc = QuantumCircuit(objects_to_remove,address,flag,output_piles,pick_pile)\n",
    "qc_process(qc,objects_to_remove,address,removable_pile,removable_count)\n",
    "\n",
    "\n"
   ]
  },
  {
   "cell_type": "code",
   "execution_count": null,
   "id": "e6955c33",
   "metadata": {},
   "outputs": [],
   "source": []
  },
  {
   "cell_type": "code",
   "execution_count": null,
   "id": "29622c08",
   "metadata": {},
   "outputs": [],
   "source": []
  },
  {
   "cell_type": "code",
   "execution_count": 35,
   "id": "a59947eb",
   "metadata": {},
   "outputs": [
    {
     "data": {
      "text/plain": [
       "<qiskit.circuit.instructionset.InstructionSet at 0x1ecfcf9eac0>"
      ]
     },
     "execution_count": 35,
     "metadata": {},
     "output_type": "execute_result"
    }
   ],
   "source": [
    "qc.measure(address[:],pick_pile[:])\n",
    "qc.measure(objects_to_remove[:],output_piles[:])\n"
   ]
  },
  {
   "cell_type": "code",
   "execution_count": 36,
   "id": "25d88553",
   "metadata": {},
   "outputs": [
    {
     "data": {
      "text/plain": [
       "{'001 100': 293,\n",
       " '100 100': 281,\n",
       " '011 000': 30,\n",
       " '010 100': 285,\n",
       " '101 000': 31,\n",
       " '111 000': 40,\n",
       " '110 000': 37,\n",
       " '000 000': 27}"
      ]
     },
     "execution_count": 36,
     "metadata": {},
     "output_type": "execute_result"
    }
   ],
   "source": [
    "backend = BasicAer.get_backend('qasm_simulator')\n",
    "# backend = provider.backends.ibmq_qasm_simulator\n",
    "# backend = provider.get_backend('ibm_nairobi')\n",
    "job = execute(qc,backend,shots=1024)\n",
    "result = job.result()\n",
    "counts = result.get_counts()\n",
    "qc_move = (counts.most_frequent())\n",
    "counts"
   ]
  },
  {
   "cell_type": "code",
   "execution_count": 37,
   "id": "893869b9",
   "metadata": {},
   "outputs": [
    {
     "data": {
      "image/png": "[encoded data removed]",
      "text/plain": [
       "<Figure size 504x360 with 1 Axes>"
      ]
     },
     "execution_count": 37,
     "metadata": {},
     "output_type": "execute_result"
    }
   ],
   "source": [
    "from qiskit.tools.visualization import plot_histogram\n",
    "plot_histogram(counts)"
   ]
  },
  {
   "cell_type": "code",
   "execution_count": 26,
   "id": "52f1db5a",
   "metadata": {},
   "outputs": [
    {
     "name": "stdout",
     "output_type": "stream",
     "text": [
      "OrderedDict([('010 110', 1024)])\n"
     ]
    },
    {
     "data": {
      "text/plain": [
       "OrderedDict([('010 110', 1024)])"
      ]
     },
     "execution_count": 26,
     "metadata": {},
     "output_type": "execute_result"
    }
   ],
   "source": [
    "backend = provider.backends.ibmq_qasm_simulator\n",
    "job = execute(qc,backend,shots=1024)\n",
    "result = job.result()\n",
    "counts = result.get_counts()\n",
    "counts = OrderedDict(sorted(counts.items(), key=itemgetter(1), reverse=True)) # sort by counts\n",
    "print(counts)\n",
    "counts"
   ]
  },
  {
   "cell_type": "code",
   "execution_count": 27,
   "id": "359f2933",
   "metadata": {},
   "outputs": [
    {
     "data": {
      "text/plain": [
       "<bound method IBMQBackend.jobs of <IBMQSimulator('ibmq_qasm_simulator') from IBMQ(hub='ibm-q-community', group='qamp', project='fall-22-29')>>"
      ]
     },
     "execution_count": 27,
     "metadata": {},
     "output_type": "execute_result"
    }
   ],
   "source": [
    "backend.jobs"
   ]
  },
  {
   "cell_type": "code",
   "execution_count": null,
   "id": "2105f8ed",
   "metadata": {},
   "outputs": [],
   "source": []
  },
  {
   "cell_type": "code",
   "execution_count": null,
   "id": "16d71ebf",
   "metadata": {},
   "outputs": [],
   "source": []
  },
  {
   "cell_type": "code",
   "execution_count": null,
   "id": "db3ad0d1",
   "metadata": {},
   "outputs": [],
   "source": []
  },
  {
   "cell_type": "code",
   "execution_count": null,
   "id": "8d991331",
   "metadata": {},
   "outputs": [],
   "source": []
  },
  {
   "cell_type": "code",
   "execution_count": 28,
   "id": "27a7e23d",
   "metadata": {},
   "outputs": [
    {
     "data": {
      "image/png": "[encoded data removed]",
      "text/plain": [
       "<Figure size 504x360 with 1 Axes>"
      ]
     },
     "execution_count": 28,
     "metadata": {},
     "output_type": "execute_result"
    }
   ],
   "source": [
    "from qiskit.tools.visualization import plot_histogram\n",
    "plot_histogram(counts)"
   ]
  },
  {
   "cell_type": "code",
   "execution_count": 29,
   "id": "63189d76",
   "metadata": {
    "scrolled": true
   },
   "outputs": [
    {
     "name": "stdout",
     "output_type": "stream",
     "text": [
      "OrderedDict([('010 110', 725), ('010 100', 68), ('010 111', 53), ('000 110', 49), ('010 101', 40), ('010 010', 34), ('110 110', 12), ('011 110', 9), ('010 000', 8), ('000 100', 6), ('010 001', 5), ('010 011', 3), ('000 010', 3), ('000 111', 2), ('011 010', 2), ('000 101', 2), ('011 100', 1), ('001 110', 1), ('011 111', 1)])\n"
     ]
    },
    {
     "data": {
      "text/plain": [
       "OrderedDict([('010 110', 725),\n",
       "             ('010 100', 68),\n",
       "             ('010 111', 53),\n",
       "             ('000 110', 49),\n",
       "             ('010 101', 40),\n",
       "             ('010 010', 34),\n",
       "             ('110 110', 12),\n",
       "             ('011 110', 9),\n",
       "             ('010 000', 8),\n",
       "             ('000 100', 6),\n",
       "             ('010 001', 5),\n",
       "             ('010 011', 3),\n",
       "             ('000 010', 3),\n",
       "             ('000 111', 2),\n",
       "             ('011 010', 2),\n",
       "             ('000 101', 2),\n",
       "             ('011 100', 1),\n",
       "             ('001 110', 1),\n",
       "             ('011 111', 1)])"
      ]
     },
     "execution_count": 29,
     "metadata": {},
     "output_type": "execute_result"
    }
   ],
   "source": [
    "from qiskit.providers.aer import QasmSimulator\n",
    "sim_noisy_nairobi = QasmSimulator.from_backend(provider.get_backend('ibm_nairobi'))\n",
    "job = execute(qc,sim_noisy_nairobi,shots=1024)\n",
    "result = job.result()\n",
    "counts = result.get_counts()\n",
    "# qc_move = (counts.most_frequent())\n",
    "counts = OrderedDict(sorted(counts.items(), key=itemgetter(1), reverse=True)) # sort by counts\n",
    "print(counts)\n",
    "counts"
   ]
  },
  {
   "cell_type": "code",
   "execution_count": 30,
   "id": "534ae766",
   "metadata": {},
   "outputs": [
    {
     "data": {
      "image/png": "[encoded data removed]",
      "text/plain": [
       "<Figure size 504x360 with 1 Axes>"
      ]
     },
     "execution_count": 30,
     "metadata": {},
     "output_type": "execute_result"
    }
   ],
   "source": [
    "from qiskit.tools.visualization import plot_histogram\n",
    "plot_histogram(counts)"
   ]
  },
  {
   "cell_type": "code",
   "execution_count": 31,
   "id": "302471af",
   "metadata": {
    "scrolled": true
   },
   "outputs": [
    {
     "name": "stdout",
     "output_type": "stream",
     "text": [
      "OrderedDict([('010 110', 824), ('010 010', 46), ('010 100', 42), ('010 111', 39), ('010 101', 17), ('011 110', 16), ('010 000', 11), ('010 001', 11), ('110 110', 6), ('010 011', 5), ('000 110', 4), ('011 100', 2), ('011 111', 1)])\n"
     ]
    },
    {
     "data": {
      "text/plain": [
       "OrderedDict([('010 110', 824),\n",
       "             ('010 010', 46),\n",
       "             ('010 100', 42),\n",
       "             ('010 111', 39),\n",
       "             ('010 101', 17),\n",
       "             ('011 110', 16),\n",
       "             ('010 000', 11),\n",
       "             ('010 001', 11),\n",
       "             ('110 110', 6),\n",
       "             ('010 011', 5),\n",
       "             ('000 110', 4),\n",
       "             ('011 100', 2),\n",
       "             ('011 111', 1)])"
      ]
     },
     "execution_count": 31,
     "metadata": {},
     "output_type": "execute_result"
    }
   ],
   "source": [
    "from qiskit.providers.aer import QasmSimulator\n",
    "sim_noisy_oslo = QasmSimulator.from_backend(provider.get_backend('ibm_oslo'))\n",
    "job = execute(qc,sim_noisy_oslo,shots=1024)\n",
    "result = job.result()\n",
    "counts = result.get_counts()\n",
    "# qc_move = (counts.most_frequent())\n",
    "counts = OrderedDict(sorted(counts.items(), key=itemgetter(1), reverse=True)) # sort by count\n",
    "print(counts)\n",
    "counts"
   ]
  },
  {
   "cell_type": "code",
   "execution_count": 32,
   "id": "6da26a9b",
   "metadata": {},
   "outputs": [
    {
     "data": {
      "image/png": "[encoded data removed]",
      "text/plain": [
       "<Figure size 504x360 with 1 Axes>"
      ]
     },
     "execution_count": 32,
     "metadata": {},
     "output_type": "execute_result"
    }
   ],
   "source": [
    "from qiskit.tools.visualization import plot_histogram\n",
    "plot_histogram(counts)"
   ]
  },
  {
   "cell_type": "code",
   "execution_count": 33,
   "id": "3946770b",
   "metadata": {
    "scrolled": false
   },
   "outputs": [
    {
     "data": {
      "image/png": "[encoded data removed]",
      "text/plain": [
       "<Figure size 904.611x565.88 with 1 Axes>"
      ]
     },
     "execution_count": 33,
     "metadata": {},
     "output_type": "execute_result"
    }
   ],
   "source": [
    "qc.draw(output='mpl')"
   ]
  },
  {
   "cell_type": "code",
   "execution_count": null,
   "id": "8a90c507",
   "metadata": {},
   "outputs": [],
   "source": []
  },
  {
   "cell_type": "code",
   "execution_count": 151,
   "id": "5886e36e",
   "metadata": {},
   "outputs": [
    {
     "name": "stdout",
     "output_type": "stream",
     "text": [
      "010\n",
      "Pick from: 2\n",
      "Amount: 3\n"
     ]
    }
   ],
   "source": [
    "board_choice = qc_move.split(' ')[0]\n",
    "# board_choice = board_choice[::-1]\n",
    "\n",
    "print(board_choice)\n",
    "board_choice = int(board_choice,2)\n",
    "\n",
    "print(\"Pick from:\",board_choice)\n",
    "board_state = qc_move.split(' ')[1]\n",
    "\n",
    "\n",
    "board_state = board_state[::-1]\n",
    "amount = int(board_state,2)\n",
    "print(\"Amount:\", amount)"
   ]
  },
  {
   "cell_type": "code",
   "execution_count": null,
   "id": "98e2d1ec",
   "metadata": {},
   "outputs": [],
   "source": []
  },
  {
   "cell_type": "code",
   "execution_count": null,
   "id": "4f8881bb",
   "metadata": {},
   "outputs": [],
   "source": []
  },
  {
   "cell_type": "code",
   "execution_count": null,
   "id": "467800c0",
   "metadata": {},
   "outputs": [],
   "source": []
  },
  {
   "cell_type": "code",
   "execution_count": null,
   "id": "8a7bfc67",
   "metadata": {},
   "outputs": [],
   "source": []
  },
  {
   "cell_type": "code",
   "execution_count": null,
   "id": "5fa9afe2",
   "metadata": {},
   "outputs": [],
   "source": []
  },
  {
   "cell_type": "code",
   "execution_count": null,
   "id": "501c3470",
   "metadata": {},
   "outputs": [],
   "source": []
  },
  {
   "cell_type": "code",
   "execution_count": null,
   "id": "6116abbb",
   "metadata": {},
   "outputs": [],
   "source": []
  },
  {
   "cell_type": "code",
   "execution_count": null,
   "id": "9bc0b076",
   "metadata": {},
   "outputs": [],
   "source": []
  }
 ],
 "metadata": {
  "kernelspec": {
   "display_name": "Python 3",
   "language": "python",
   "name": "python3"
  },
  "language_info": {
   "codemirror_mode": {
    "name": "ipython",
    "version": 3
   },
   "file_extension": ".py",
   "mimetype": "text/x-python",
   "name": "python",
   "nbconvert_exporter": "python",
   "pygments_lexer": "ipython3",
   "version": "3.8.8"
  }
 },
 "nbformat": 4,
 "nbformat_minor": 5
}
